{
  "cells": [
    {
      "cell_type": "code",
      "execution_count": null,
      "metadata": {
        "id": "TC3PDiIx9bSA"
      },
      "outputs": [],
      "source": [
        "import numpy as np\n",
        "import pandas as pd\n",
        "import matplotlib.pyplot as plt"
      ]
    },
    {
      "cell_type": "code",
      "execution_count": null,
      "metadata": {
        "id": "M6qNoYW1DUFb"
      },
      "outputs": [],
      "source": [
        "LR = 0.8\n",
        "epochs = 15000\n",
        "\n",
        "input_size = 2\n",
        "hidden_size = 2\n",
        "output_size = 1"
      ]
    },
    {
      "cell_type": "code",
      "execution_count": null,
      "metadata": {
        "id": "XziDEjj_EG1a"
      },
      "outputs": [],
      "source": [
        "V = np.random.normal(scale=0.5, size=(input_size, hidden_size))\n",
        "W = np.random.normal(scale=0.5, size=(hidden_size , output_size))\n",
        "\n",
        "V0 = np.random.normal(scale=0.5, size=(1, hidden_size))\n",
        "W0 = np.random.normal(scale=0.5, size=(1, output_size))"
      ]
    },
    {
      "cell_type": "code",
      "execution_count": null,
      "metadata": {
        "id": "3m8Jj5RjEHWA"
      },
      "outputs": [],
      "source": [
        "def sigmoid(x):\n",
        "    return 1 / (1 + np.exp(-x))\n",
        "\n",
        "def mean_squared_error(y_pred, y_true):\n",
        "    return ((y_pred - y_true)**2).sum() / (2*y_pred.size)\n",
        "\n",
        "def sigmoid_derivative(x):\n",
        "    return x*(1 - x)"
      ]
    },
    {
      "cell_type": "code",
      "execution_count": null,
      "metadata": {
        "id": "SGdjxPgCEZbL"
      },
      "outputs": [],
      "source": [
        "X = np.array([[0.4, -0.7],\n",
        "              [0.3, -0.5],\n",
        "              [0.6, 0.1],\n",
        "              [0.2, 0.4]])\n",
        "\n",
        "Y = np.array([[0.1],\n",
        "              [0.5],\n",
        "              [0.3],\n",
        "              [0.25]])"
      ]
    },
    {
      "cell_type": "code",
      "source": [
        "'''\n",
        "#XOR gate\n",
        "X = np.array([[0, 0],\n",
        "              [0, 1],\n",
        "              [1, 0],\n",
        "              [1, 1]])\n",
        "\n",
        "Y = np.array([[0],\n",
        "              [1],\n",
        "              [1],\n",
        "              [0]])\n",
        "'''"
      ],
      "metadata": {
        "colab": {
          "base_uri": "https://localhost:8080/",
          "height": 54
        },
        "id": "tKhwK4sIKHZ6",
        "outputId": "1a3f808c-0c59-4f25-b697-aaa177297c64"
      },
      "execution_count": null,
      "outputs": [
        {
          "output_type": "execute_result",
          "data": {
            "text/plain": [
              "'\\nX = np.array([[0, 0],\\n              [0, 1],\\n              [1, 0],\\n              [1, 1]])\\n\\nY = np.array([[0],\\n              [1],\\n              [1],\\n              [0]])\\n'"
            ],
            "application/vnd.google.colaboratory.intrinsic+json": {
              "type": "string"
            }
          },
          "metadata": {},
          "execution_count": 164
        }
      ]
    },
    {
      "cell_type": "code",
      "source": [
        "mse = []\n",
        "for epoch in range(epochs):\n",
        "    # Forward path\n",
        "    I_h = np.dot(X, V) + V0\n",
        "    O_h = sigmoid(I_h)\n",
        "    I_o = np.dot(O_h, W) + W0\n",
        "    O_o = sigmoid(I_o)\n",
        "    mse.append(mean_squared_error(O_o, Y))\n",
        "\n",
        "    # Backpropagation\n",
        "    error = Y - O_o\n",
        "    dk = error * sigmoid_derivative(O_o)\n",
        "    W += LR * np.dot(O_h.T, dk)\n",
        "    W0 += LR * np.sum(dk, axis=0, keepdims=True)\n",
        "\n",
        "    d_inj = np.dot(dk, W.T)\n",
        "    dj = d_inj * sigmoid_derivative(O_h)\n",
        "    V += LR * np.dot(X.T, dj)\n",
        "    V0 += LR * np.sum(dj, axis=0, keepdims=True)"
      ],
      "metadata": {
        "id": "6zjeXQzSInop"
      },
      "execution_count": null,
      "outputs": []
    },
    {
      "cell_type": "code",
      "source": [
        "V"
      ],
      "metadata": {
        "colab": {
          "base_uri": "https://localhost:8080/"
        },
        "id": "afDjF1M3MQx-",
        "outputId": "3f258ece-4753-4b18-c205-faf9c2e185aa"
      },
      "execution_count": null,
      "outputs": [
        {
          "output_type": "execute_result",
          "data": {
            "text/plain": [
              "array([[ 1.22405458,  4.42503936],\n",
              "       [ 4.97227707, -5.12119721]])"
            ]
          },
          "metadata": {},
          "execution_count": 167
        }
      ]
    },
    {
      "cell_type": "code",
      "execution_count": null,
      "metadata": {
        "colab": {
          "base_uri": "https://localhost:8080/"
        },
        "id": "cCgtbFn0PkCb",
        "outputId": "f4852bac-1138-499e-9dce-81d5eef6079f"
      },
      "outputs": [
        {
          "output_type": "execute_result",
          "data": {
            "text/plain": [
              "array([[-3.87996838],\n",
              "       [-6.71560921]])"
            ]
          },
          "metadata": {},
          "execution_count": 168
        }
      ],
      "source": [
        "W"
      ]
    },
    {
      "cell_type": "code",
      "source": [
        "V0"
      ],
      "metadata": {
        "colab": {
          "base_uri": "https://localhost:8080/"
        },
        "id": "_GOhwnqFsSdT",
        "outputId": "b8dffb9d-6c86-4e01-9ec8-a6f0987bc742"
      },
      "execution_count": null,
      "outputs": [
        {
          "output_type": "execute_result",
          "data": {
            "text/plain": [
              "array([[-0.51057446, -4.78153381]])"
            ]
          },
          "metadata": {},
          "execution_count": 169
        }
      ]
    },
    {
      "cell_type": "code",
      "source": [
        "W0"
      ],
      "metadata": {
        "colab": {
          "base_uri": "https://localhost:8080/"
        },
        "id": "lTiGsiLTwzS6",
        "outputId": "a512ecb6-2f41-4804-fa06-b98f4e989abb"
      },
      "execution_count": null,
      "outputs": [
        {
          "output_type": "execute_result",
          "data": {
            "text/plain": [
              "array([[2.2112125]])"
            ]
          },
          "metadata": {},
          "execution_count": 170
        }
      ]
    },
    {
      "cell_type": "code",
      "execution_count": null,
      "metadata": {
        "colab": {
          "base_uri": "https://localhost:8080/"
        },
        "id": "s6V6cRafPs8S",
        "outputId": "c61e6a5c-3400-4407-8021-ec97925301a0"
      },
      "outputs": [
        {
          "output_type": "stream",
          "name": "stdout",
          "text": [
            "True Y:\n",
            " [[0.1 ]\n",
            " [0.5 ]\n",
            " [0.3 ]\n",
            " [0.25]] \n",
            "\n",
            "Pred Y:\n",
            " [[0.1000046 ]\n",
            " [0.49999784]\n",
            " [0.30000059]\n",
            " [0.24999982]]\n"
          ]
        }
      ],
      "source": [
        "I_h = np.dot(X, V) + V0\n",
        "O_h = sigmoid(I_h)\n",
        "I_o = np.dot(O_h, W) + W0\n",
        "O_o = sigmoid(I_o)\n",
        "\n",
        "print(\"True Y:\\n\",Y,'\\n')\n",
        "print(\"Pred Y:\\n\",O_o)"
      ]
    },
    {
      "cell_type": "code",
      "execution_count": null,
      "metadata": {
        "colab": {
          "base_uri": "https://localhost:8080/",
          "height": 467
        },
        "id": "qV-VffVeEpf7",
        "outputId": "3a6d9bca-743a-4722-b6d2-44770dac442b"
      },
      "outputs": [
        {
          "output_type": "execute_result",
          "data": {
            "text/plain": [
              "Text(0, 0.5, 'MSE')"
            ]
          },
          "metadata": {},
          "execution_count": 172
        },
        {
          "output_type": "display_data",
          "data": {
            "text/plain": [
              "<Figure size 640x480 with 1 Axes>"
            ],
            "image/png": "[encoded data removed]"
          },
          "metadata": {}
        }
      ],
      "source": [
        "plt.plot(range(epochs),mse)\n",
        "plt.xlabel(\"Epochs\")\n",
        "plt.ylabel(\"MSE\")"
      ]
    }
  ],
  "metadata": {
    "colab": {
      "provenance": []
    },
    "kernelspec": {
      "display_name": "Python 3",
      "name": "python3"
    },
    "language_info": {
      "name": "python"
    }
  },
  "nbformat": 4,
  "nbformat_minor": 0
}