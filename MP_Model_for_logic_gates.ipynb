{
  "nbformat": 4,
  "nbformat_minor": 0,
  "metadata": {
    "colab": {
      "provenance": []
    },
    "kernelspec": {
      "name": "python3",
      "display_name": "Python 3"
    },
    "language_info": {
      "name": "python"
    }
  },
  "cells": [
    {
      "cell_type": "markdown",
      "source": [
        "**Expt. 1:** To implement logic gates using MP model."
      ],
      "metadata": {
        "id": "GsCv92erX-yF"
      }
    },
    {
      "cell_type": "code",
      "source": [
        "gate = input(\"Enter choice of gate: \")\n",
        "\n",
        "while True:\n",
        "    x1, x2 = map(int, input(\"Enter two inputs: \").split())\n",
        "    if x1 in {0,1} and x2 in {0,1}:\n",
        "      break"
      ],
      "metadata": {
        "id": "4JZXl91ZBwlm",
        "colab": {
          "base_uri": "https://localhost:8080/"
        },
        "outputId": "72a3ad8e-b4fb-4371-970c-34d5a18bf9a1"
      },
      "execution_count": null,
      "outputs": [
        {
          "name": "stdout",
          "output_type": "stream",
          "text": [
            "Enter choice of gate: XOR\n",
            "Enter two inputs: 1 1\n"
          ]
        }
      ]
    },
    {
      "cell_type": "code",
      "source": [
        "match gate:\n",
        "  case \"AND\":\n",
        "    w1,w2 = 1,1\n",
        "    n = x1*w1 + x2*w2\n",
        "    if n >= 2:\n",
        "      y = 1\n",
        "    else:\n",
        "      y = 0\n",
        "\n",
        "\n",
        "  case \"OR\":\n",
        "    w1,w2 = 1,1\n",
        "    n = x1*w1 + x2*w2\n",
        "    if n >= 1:\n",
        "      y = 1\n",
        "    else:\n",
        "      y = 0\n",
        "\n",
        "\n",
        "  case \"NAND\":\n",
        "    w1,w2 = 1,1\n",
        "    n = x1*w1 + x2*w2\n",
        "    if n >= 2:\n",
        "      y = 0\n",
        "    else:\n",
        "      y = 1\n",
        "\n",
        "\n",
        "  case \"NOR\":\n",
        "    w1,w2 = 1,1\n",
        "    n = x1*w1 + x2*w2\n",
        "    if n >= 1:\n",
        "      y = 0\n",
        "    else:\n",
        "      y = 1\n",
        "\n",
        "  case \"XOR\":\n",
        "    w1,w2 = 1,-1\n",
        "    n = x1*w1 + x2*w2\n",
        "    if abs(n) >= 1:\n",
        "      y = 1\n",
        "    else:\n",
        "      y = 0"
      ],
      "metadata": {
        "id": "k_MA_27OE-EW"
      },
      "execution_count": null,
      "outputs": []
    },
    {
      "cell_type": "code",
      "source": [
        "print(x1, gate, x2, \"=\", y)"
      ],
      "metadata": {
        "colab": {
          "base_uri": "https://localhost:8080/"
        },
        "id": "mdxzX1SWHkoH",
        "outputId": "d1fbce09-d5f5-484f-acb2-cfc7b0d81c99"
      },
      "execution_count": null,
      "outputs": [
        {
          "output_type": "stream",
          "name": "stdout",
          "text": [
            "1 XOR 1 = 0\n"
          ]
        }
      ]
    },
    {
      "cell_type": "code",
      "source": [
        "import numpy as np"
      ],
      "metadata": {
        "id": "fUhE0KkJWMyf"
      },
      "execution_count": null,
      "outputs": []
    },
    {
      "cell_type": "code",
      "source": [
        "#defining problem for continuous input values\n",
        "inputs = [[0.5,0.5],[0.5,1],[1,0.5],[1,1]]\n",
        "outputs = [0,1,1,1]\n",
        "\n",
        "W = [2,2]\n",
        "n = []\n",
        "for i in range(4):\n",
        "  n.append(np.dot(inputs[i],W))\n",
        "print(\"Weighted sum: \",n)\n",
        "\n",
        "thres = 3\n",
        "print(\"Threshold = \",thres)\n",
        "y=[]\n",
        "for i in n:\n",
        "  if i>=thres:\n",
        "    y.append(1)\n",
        "  else:\n",
        "    y.append(0)\n",
        "print(\"Y = \",y)"
      ],
      "metadata": {
        "colab": {
          "base_uri": "https://localhost:8080/"
        },
        "id": "N9LhBk_kJVL1",
        "outputId": "f4529d86-0364-4ba7-a43a-9e636ddbef0c"
      },
      "execution_count": null,
      "outputs": [
        {
          "output_type": "stream",
          "name": "stdout",
          "text": [
            "Weighted sum:  [2.0, 3.0, 3.0, 4]\n",
            "Threshold =  3\n",
            "Y =  [0, 1, 1, 1]\n"
          ]
        }
      ]
    }
  ]
}