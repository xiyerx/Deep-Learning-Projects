{
  "nbformat": 4,
  "nbformat_minor": 0,
  "metadata": {
    "colab": {
      "provenance": []
    },
    "kernelspec": {
      "name": "python3",
      "display_name": "Python 3"
    },
    "language_info": {
      "name": "python"
    }
  },
  "cells": [
    {
      "cell_type": "code",
      "source": [
        "import numpy as np\n",
        "import matplotlib.pyplot as plt"
      ],
      "metadata": {
        "id": "6m1Hn8s5D2wR"
      },
      "execution_count": null,
      "outputs": []
    },
    {
      "cell_type": "code",
      "source": [
        "def radial_basis_fn(x, c, std=1):\n",
        "    r = np.linalg.norm(x - c)\n",
        "    return np.exp(-0.5 * (r / std)**2)"
      ],
      "metadata": {
        "id": "bs0FllqvMOUM"
      },
      "execution_count": null,
      "outputs": []
    },
    {
      "cell_type": "code",
      "source": [
        "X = np.array([[0, 0], [0, 1], [1, 0], [1, 1]])\n",
        "wts = np.array([-1, 1, 1, -1])\n",
        "centers = X\n",
        "\n",
        "thres = 0\n",
        "y = []\n",
        "for input in X:\n",
        "    psi = np.array([radial_basis_fn(input, center) for center in centers])\n",
        "    weighted_sum = np.dot(psi, wts)\n",
        "    print(weighted_sum)\n",
        "    y.append(1 if weighted_sum > thres else 0)"
      ],
      "metadata": {
        "colab": {
          "base_uri": "https://localhost:8080/"
        },
        "id": "zut3eBxnF-06",
        "outputId": "eedef84e-0ac3-408c-cab5-31c7d0dd5ca3"
      },
      "execution_count": null,
      "outputs": [
        {
          "output_type": "stream",
          "name": "stdout",
          "text": [
            "-0.15481812174617537\n",
            "0.15481812174617537\n",
            "0.15481812174617537\n",
            "-0.15481812174617537\n"
          ]
        }
      ]
    },
    {
      "cell_type": "code",
      "source": [
        "print(y)"
      ],
      "metadata": {
        "colab": {
          "base_uri": "https://localhost:8080/"
        },
        "id": "eIvVndJ3GCxS",
        "outputId": "9ca6c3ae-43d9-45ca-81e9-86cd08536c93"
      },
      "execution_count": null,
      "outputs": [
        {
          "output_type": "stream",
          "name": "stdout",
          "text": [
            "[0, 1, 1, 0]\n"
          ]
        }
      ]
    },
    {
      "cell_type": "code",
      "source": [
        "X = np.array([[0, 0], [0, 1], [1, 0], [1, 1]])\n",
        "target = np.array([0, 1, 1, 0])\n",
        "centers = X\n",
        "\n",
        "lr = 0.1\n",
        "epochs = 2000\n",
        "hidden_nodes = 4\n",
        "\n",
        "W = np.random.randn(hidden_nodes)\n",
        "b = np.random.randn()"
      ],
      "metadata": {
        "id": "sIWZDt_xMI_t"
      },
      "execution_count": null,
      "outputs": []
    },
    {
      "cell_type": "code",
      "source": [
        "MSE = []\n",
        "y = []\n",
        "for epoch in range(epochs):\n",
        "    for x, t in zip(X, target):\n",
        "        psi = np.array([radial_basis_fn(x, center) for center in centers])\n",
        "        y = np.dot(psi, W) + b\n",
        "        error = t - y\n",
        "\n",
        "        W += lr * error * psi\n",
        "        b += lr * error\n",
        "    MSE.append((error**2)/4)"
      ],
      "metadata": {
        "id": "K2o2qWhgKo-M"
      },
      "execution_count": null,
      "outputs": []
    },
    {
      "cell_type": "code",
      "source": [
        "print(\"Final Weights:\", W)\n",
        "print(\"Final Bias:\", b)"
      ],
      "metadata": {
        "colab": {
          "base_uri": "https://localhost:8080/"
        },
        "id": "HbM6Hr-hKcUM",
        "outputId": "4d56f963-eeff-44eb-b8c9-d625adb47ee4"
      },
      "execution_count": null,
      "outputs": [
        {
          "output_type": "stream",
          "name": "stdout",
          "text": [
            "Final Weights: [-2.98415744  3.45080421  3.44989438 -2.98520551]\n",
            "Final Bias: -0.10092474367913837\n"
          ]
        }
      ]
    },
    {
      "cell_type": "code",
      "source": [
        "y = []\n",
        "for x in X:\n",
        "    psi = np.array([radial_basis_fn(x, center) for center in centers])\n",
        "    y.append(np.dot(psi, W) + b)\n",
        "\n",
        "print(\"Input:\\n\", X)\n",
        "print(\"\\nTrue Y:\\n\", target)\n",
        "print(\"\\nPred Y:\\n\", y)"
      ],
      "metadata": {
        "colab": {
          "base_uri": "https://localhost:8080/"
        },
        "id": "KfTzITnQMc1N",
        "outputId": "0b8b7165-f436-4fd7-ac48-0da31f903707"
      },
      "execution_count": null,
      "outputs": [
        {
          "output_type": "stream",
          "name": "stdout",
          "text": [
            "Input:\n",
            " [[0 0]\n",
            " [0 1]\n",
            " [1 0]\n",
            " [1 1]]\n",
            "\n",
            "True Y:\n",
            " [0 1 1 0]\n",
            "\n",
            "Pred Y:\n",
            " [0.0022073524968814484, 0.9984230319408506, 0.9978479148855682, 0.001544840296036215]\n"
          ]
        }
      ]
    },
    {
      "cell_type": "code",
      "source": [
        "plt.plot(range(epochs), MSE)\n",
        "plt.xlabel(\"Epochs\")\n",
        "plt.ylabel(\"MSE\")"
      ],
      "metadata": {
        "colab": {
          "base_uri": "https://localhost:8080/",
          "height": 467
        },
        "id": "ugLyzpasMjZc",
        "outputId": "c235fd8e-2160-42fd-a4d5-5ae194c946e6"
      },
      "execution_count": null,
      "outputs": [
        {
          "output_type": "execute_result",
          "data": {
            "text/plain": [
              "Text(0, 0.5, 'MSE')"
            ]
          },
          "metadata": {},
          "execution_count": 18
        },
        {
          "output_type": "display_data",
          "data": {
            "text/plain": [
              "<Figure size 640x480 with 1 Axes>"
            ],
            "image/png": "[encoded data removed]"
          },
          "metadata": {}
        }
      ]
    }
  ]
}