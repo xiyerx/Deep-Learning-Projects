{
  "cells": [
    {
      "cell_type": "code",
      "execution_count": null,
      "metadata": {
        "id": "qnLYV9KgNF8P"
      },
      "outputs": [],
      "source": [
        "import numpy as np\n",
        "import matplotlib.pyplot as plt"
      ]
    },
    {
      "cell_type": "code",
      "execution_count": null,
      "metadata": {
        "id": "jJFxlBDK7x-w"
      },
      "outputs": [],
      "source": [
        "def relu(x, derivative=False):\n",
        "    if derivative:\n",
        "        return np.where(x > 0, 1, 0)\n",
        "    else:\n",
        "        return np.maximum(0, x)\n",
        "\n",
        "def leaky_relu(x, alpha=0.01, derivative=False):\n",
        "    if derivative:\n",
        "        return np.where(x > 0, 1, alpha)\n",
        "    else:\n",
        "        return np.maximum(alpha*x, x)\n",
        "\n",
        "def tanh(x, derivative=False):\n",
        "    if derivative:\n",
        "        return 1 - np.tanh(x)**2\n",
        "    else:\n",
        "        return np.tanh(x)\n",
        "\n",
        "def elu(x, alpha=1.0, derivative=False):\n",
        "    if derivative:\n",
        "        return np.where(x > 0, 1, alpha * np.exp(x))\n",
        "    else:\n",
        "        return np.where(x > 0, x, alpha * (np.exp(x) - 1))\n",
        "\n",
        "def linear(x, a = 0.5, derivative=False):\n",
        "  if derivative:\n",
        "        a\n",
        "  else:\n",
        "        a*x\n",
        "\n",
        "def sigmoid(x, derivative=False):\n",
        "    if derivative:\n",
        "        return sigmoid(x) * (1 - sigmoid(x))\n",
        "    else:\n",
        "        return 1 / (1 + np.exp(-x))"
      ]
    },
    {
      "cell_type": "code",
      "execution_count": null,
      "metadata": {
        "id": "MbWu34ZeNHZ1"
      },
      "outputs": [],
      "source": [
        "class NeuralNetwork:\n",
        "    def __init__(self, input_size, hidden_size, output_size, hidden_activn, output_activn):\n",
        "        self.v = np.random.randn(input_size, hidden_size)\n",
        "        self.v0 = np.zeros((1, hidden_size))\n",
        "        self.w = np.random.randn(hidden_size, output_size)\n",
        "        self.w0 = np.zeros((1, output_size))\n",
        "        self.z_fn = hidden_activn\n",
        "        self.y_fn = output_activn\n",
        "\n",
        "    def forward(self, X):\n",
        "        Z = self.z_fn(np.dot(X, self.v) + self.v0)\n",
        "        Y = self.y_fn(np.dot(Z, self.w) + self.w0)\n",
        "        return Y\n",
        "\n",
        "    def backward(self, X, Y_true, Y_pred, LR):\n",
        "        delta_k = (Y_true - Y_pred) * self.y_fn(Y_pred, derivative=True)\n",
        "        delta_in_j = np.dot(delta_k, self.w.T)\n",
        "        delta_j = delta_in_j * self.z_fn(np.dot(X, self.v) + self.v0, derivative=True)\n",
        "\n",
        "        self.w += LR * np.dot(self.z_fn(np.dot(X, self.v) + self.v0).T, delta_k)\n",
        "        self.w0 += LR * np.sum(delta_k, axis=0, keepdims=True)\n",
        "\n",
        "        self.v += LR * np.dot(X.T, delta_j)\n",
        "        self.v0 += LR * np.sum(delta_j, axis=0, keepdims=True)"
      ]
    },
    {
      "cell_type": "code",
      "execution_count": null,
      "metadata": {
        "id": "5FD__IbJNLdH"
      },
      "outputs": [],
      "source": [
        "LR = 1\n",
        "epochs = 20000\n",
        "\n",
        "input_size = 2\n",
        "hidden_size = 2\n",
        "output_size = 1\n",
        "\n",
        "# Initialize weights and biases\n",
        "V = np.random.normal(scale=0.5, size=(input_size, hidden_size))\n",
        "W = np.random.normal(scale=0.5, size=(hidden_size, output_size))\n",
        "V0 = np.random.normal(scale=0.5, size=(1, hidden_size))\n",
        "W0 = np.random.normal(scale=0.5, size=(1, output_size))"
      ]
    },
    {
      "cell_type": "code",
      "execution_count": null,
      "metadata": {
        "id": "ROYWIOOpNynI"
      },
      "outputs": [],
      "source": [
        "# Sample input and output\n",
        "X = np.array([[0.4, -0.7],\n",
        "              [0.3, -0.5],\n",
        "              [0.6, 0.1],\n",
        "              [0.2, 0.4]])\n",
        "\n",
        "Y = np.array([[0.1],\n",
        "              [0.5],\n",
        "              [0.3],\n",
        "              [0.25]])"
      ]
    },
    {
      "cell_type": "code",
      "execution_count": null,
      "metadata": {
        "id": "gjhuz1mJOZbR"
      },
      "outputs": [],
      "source": [
        "def mean_squared_error(y_pred, y_true):\n",
        "    return ((y_pred - y_true)**2).sum() / (2*y_pred.size)"
      ]
    },
    {
      "cell_type": "code",
      "execution_count": null,
      "metadata": {
        "colab": {
          "base_uri": "https://localhost:8080/",
          "height": 1000
        },
        "id": "t_qGCjLhOip7",
        "outputId": "84de2b55-d985-4145-cc7c-9d8a0aa84b14"
      },
      "outputs": [
        {
          "output_type": "stream",
          "name": "stdout",
          "text": [
            "Final MSE for relu: 0.0025000000000000005\n",
            "Y_pred:\n",
            " [[0.1 ]\n",
            " [0.4 ]\n",
            " [0.4 ]\n",
            " [0.25]]\n",
            "\n",
            "Final MSE for leaky_relu: 3.043210053374881e-31\n",
            "Y_pred:\n",
            " [[0.1 ]\n",
            " [0.5 ]\n",
            " [0.3 ]\n",
            " [0.25]]\n",
            "\n",
            "Final MSE for tanh: 8.77549979160044e-31\n",
            "Y_pred:\n",
            " [[0.1 ]\n",
            " [0.5 ]\n",
            " [0.3 ]\n",
            " [0.25]]\n",
            "\n",
            "Final MSE for elu: 1.0000015934850958e-13\n",
            "Y_pred:\n",
            " [[0.09999977]\n",
            " [0.49999924]\n",
            " [0.29999984]\n",
            " [0.24999962]]\n",
            "\n",
            "Final MSE for sigmoid: 1.4515758064970901e-29\n",
            "Y_pred:\n",
            " [[0.1 ]\n",
            " [0.5 ]\n",
            " [0.3 ]\n",
            " [0.25]]\n",
            "\n"
          ]
        },
        {
          "output_type": "display_data",
          "data": {
            "text/plain": [
              "<Figure size 800x600 with 1 Axes>"
            ],
            "image/png": "[encoded data removed]"
          },
          "metadata": {}
        }
      ],
      "source": [
        "plt.figure(figsize=(8, 6))\n",
        "\n",
        "hidden_activations = [relu, leaky_relu, tanh, elu, sigmoid]\n",
        "colors = ['b', 'g', 'r', 'c', 'm']\n",
        "\n",
        "for i, hidden_activation in enumerate(hidden_activations):\n",
        "  model = NeuralNetwork(input_size, hidden_size, output_size, hidden_activation, sigmoid)\n",
        "  mse = []\n",
        "\n",
        "  for epoch in range(epochs):\n",
        "    # Forward pass\n",
        "    Y_pred = model.forward(X)\n",
        "    mse.append(mean_squared_error(Y_pred, Y))\n",
        "    # Backpropagation\n",
        "    model.backward(X, Y, Y_pred, LR)\n",
        "\n",
        "  print(f\"Final MSE for {hidden_activation.__name__}:\", mse[-1])\n",
        "  print(f\"Y_pred:\\n\", Y_pred)\n",
        "  print()\n",
        "\n",
        "  plt.plot(range(epochs), mse, label=hidden_activation.__name__, color=colors[i])\n",
        "  plt.xlabel(\"Epoch\")\n",
        "  plt.ylabel(\"MSE\")\n",
        "\n",
        "plt.legend()\n",
        "plt.grid(True)\n",
        "plt.show()"
      ]
    }
  ],
  "metadata": {
    "colab": {
      "provenance": []
    },
    "kernelspec": {
      "display_name": "Python 3",
      "name": "python3"
    },
    "language_info": {
      "name": "python"
    }
  },
  "nbformat": 4,
  "nbformat_minor": 0
}